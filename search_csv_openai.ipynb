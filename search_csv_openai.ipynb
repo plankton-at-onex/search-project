{
 "cells": [
  {
   "cell_type": "code",
   "execution_count": null,
   "metadata": {},
   "outputs": [],
   "source": [
    "# search embedded results once they are appeneded into one CSV"
   ]
  },
  {
   "cell_type": "code",
   "execution_count": null,
   "metadata": {},
   "outputs": [],
   "source": [
    "import os\n",
    "import ast\n",
    "import math\n",
    "import time\n",
    "import urllib\n",
    "import numpy as np\n",
    "import pandas as pd\n",
    "from numpy.linalg import norm\n",
    "\n",
    "import openai\n",
    "from dotenv import load_dotenv\n",
    "load_dotenv()\n",
    "\n",
    "openai.api_key = os.getenv('API_KEY')"
   ]
  },
  {
   "cell_type": "code",
   "execution_count": null,
   "metadata": {},
   "outputs": [],
   "source": [
    "def embed(input):\n",
    "    response = openai.Embedding.create(\n",
    "    input=input,\n",
    "    model=\"text-embedding-ada-002\"\n",
    "    )\n",
    "    embeddings = response['data'][0]['embedding']\n",
    "    return embeddings\n",
    "    \n",
    "def dist(arr2, arr1):\n",
    "    # Given that arr1 is a np array of lists, and arr2 is a np array\n",
    "    return np.dot(arr1,arr2)/(norm(arr1, axis=1)*norm(arr2))\n",
    "\n",
    "def dist2(arr1, arr2):\n",
    "    # Given that arr1 np array, and arr2 is a np array\n",
    "    return np.dot(arr1,arr2)/(norm(arr1)*norm(arr2))"
   ]
  },
  {
   "cell_type": "code",
   "execution_count": null,
   "metadata": {},
   "outputs": [],
   "source": [
    "df = pd.read_csv('new_concat_embed_sample.csv')\n",
    "info = pd.read_csv('Google Sheets.csv').set_index('ID')\n",
    "df = df.dropna(subset=['Embedding'])\n",
    "\n",
    "df['Embedding'] = df['Embedding'].apply(lambda x: ast.literal_eval(x))"
   ]
  },
  {
   "cell_type": "code",
   "execution_count": null,
   "metadata": {},
   "outputs": [],
   "source": [
    "prompt = 'ct scanner'\n",
    "prompt_embed = embed(prompt)\n",
    "\n",
    "distances = []\n",
    "for i, row in df.iterrows():\n",
    "    distances.append(dist2(prompt_embed, row['Embedding']))\n",
    "\n",
    "# sort distances in ascending order and select top 10 closest results\n",
    "closest_indices = np.argsort(distances)[::-1][:300]\n",
    "closest_rows = df.iloc[closest_indices].values.tolist()\n",
    "closest_distances = [distances[i] for i in closest_indices]\n",
    "\n",
    "# print closest results in a nicely formatted way\n",
    "print('Query:', prompt)\n",
    "print('Closest Results:')\n",
    "j = 0\n",
    "for i, (r, distance) in enumerate(zip(closest_rows, closest_distances)):\n",
    "    if len(r[2]) > 85:\n",
    "        j += 1\n",
    "        id = r[0]\n",
    "        name = info.loc[id, 'Manufacturer']\n",
    "        sn = info.loc[id, 'Scientific Name']\n",
    "        sp = info.loc[id, 'Specialty']\n",
    "        url = info.loc[id, 'Website']\n",
    "        print(f'\\n\\n\\n --- {i + 1} --- ')\n",
    "        print(f'----- {j} -----')\n",
    "        print(f'MFR Name: {name}')\n",
    "        print(f'MFR ID: {id}')\n",
    "        print('Cosine Distance:', distance)\n",
    "        print()\n",
    "        print(f'MFR URL: {url}')\n",
    "        print()\n",
    "        print(f'MFR SN: {sn}')\n",
    "        print()\n",
    "        print(f'MFR Specialty: {sp}')\n",
    "        print()\n",
    "        print('Page:', urllib.parse.unquote(r[1]))\n",
    "        print('\\tSegment:', r[2])"
   ]
  }
 ],
 "metadata": {
  "kernelspec": {
   "display_name": "Python 3",
   "language": "python",
   "name": "python3"
  },
  "language_info": {
   "codemirror_mode": {
    "name": "ipython",
    "version": 3
   },
   "file_extension": ".py",
   "mimetype": "text/x-python",
   "name": "python",
   "nbconvert_exporter": "python",
   "pygments_lexer": "ipython3",
   "version": "3.9.0"
  },
  "orig_nbformat": 4,
  "vscode": {
   "interpreter": {
    "hash": "055b01331e6aaed25ee87e2ba8c23bcef7463dead3293343036df99fa24c5bd4"
   }
  }
 },
 "nbformat": 4,
 "nbformat_minor": 2
}
